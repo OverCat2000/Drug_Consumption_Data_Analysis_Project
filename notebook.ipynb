{
 "cells": [
  {
   "cell_type": "code",
   "execution_count": 1,
   "id": "058de3b3-0a4f-42e6-b512-7756ff894e63",
   "metadata": {},
   "outputs": [],
   "source": [
    "import pandas as pd\n",
    "import numpy as np\n",
    "import matplotlib.pyplot as plt"
   ]
  },
  {
   "cell_type": "code",
   "execution_count": 2,
   "id": "6709f273-0640-4c3a-885c-6c018e31a9c2",
   "metadata": {},
   "outputs": [],
   "source": [
    "data = pd.read_csv(\"drug_consumption.csv\")"
   ]
  },
  {
   "cell_type": "code",
   "execution_count": 3,
   "id": "9003efa4-5a12-49c0-96d3-6ff473ba935b",
   "metadata": {},
   "outputs": [],
   "source": [
    "df = data.copy()"
   ]
  },
  {
   "cell_type": "code",
   "execution_count": 4,
   "id": "ee8ee2de-b1a5-4222-b12b-9c889bab9084",
   "metadata": {},
   "outputs": [],
   "source": [
    "df = df.drop(columns=['ID'])"
   ]
  },
  {
   "cell_type": "code",
   "execution_count": 5,
   "id": "65b0c592-a967-4bad-b331-ebe6bb4f1614",
   "metadata": {},
   "outputs": [
    {
     "data": {
      "text/plain": [
       "Index(['Age', 'Gender', 'Education', 'Country', 'Ethnicity', 'Nscore',\n",
       "       'Escore', 'Oscore', 'Ascore', 'Cscore', 'Impulsive', 'SS', 'Alcohol',\n",
       "       'Amphet', 'Amyl', 'Benzos', 'Caff', 'Cannabis', 'Choc', 'Coke', 'Crack',\n",
       "       'Ecstasy', 'Heroin', 'Ketamine', 'Legalh', 'LSD', 'Meth', 'Mushrooms',\n",
       "       'Nicotine', 'Semer', 'VSA'],\n",
       "      dtype='object')"
      ]
     },
     "execution_count": 5,
     "metadata": {},
     "output_type": "execute_result"
    }
   ],
   "source": [
    "df.columns"
   ]
  },
  {
   "cell_type": "code",
   "execution_count": 6,
   "id": "f937e960-9732-42f6-9a7d-014a2b529daa",
   "metadata": {},
   "outputs": [],
   "source": [
    "features = df.select_dtypes(include=['number']).columns\n",
    "labels = df.select_dtypes(include=['object']).columns"
   ]
  },
  {
   "cell_type": "code",
   "execution_count": 7,
   "id": "097758b4-db5b-4efd-b846-72099b76cb26",
   "metadata": {
    "scrolled": true
   },
   "outputs": [
    {
     "data": {
      "text/plain": [
       "['Age', 'Gender', 'Education', 'Country', 'Ethnicity']"
      ]
     },
     "execution_count": 7,
     "metadata": {},
     "output_type": "execute_result"
    }
   ],
   "source": [
    "#{i:len(df[i].value_counts()) for i in num_cols}\n",
    "cat_cols = [i for i in features if len(df[i].value_counts()) < 10]\n",
    "cat_cols"
   ]
  },
  {
   "cell_type": "markdown",
   "id": "0a5824ab-454f-4247-a2cd-f8ca4fa2f05a",
   "metadata": {},
   "source": [
    "### Age"
   ]
  },
  {
   "cell_type": "code",
   "execution_count": 8,
   "id": "cb3759b4-1af0-437b-8603-1945a6b98d2d",
   "metadata": {},
   "outputs": [
    {
     "data": {
      "text/plain": [
       "{-0.95197: '18 - 24',\n",
       " -0.07854: '25 - 34',\n",
       " 0.49788: '35 - 44',\n",
       " 1.09449: '45 - 54',\n",
       " 1.82213: '55 - 64',\n",
       " 2.59171: '65+'}"
      ]
     },
     "execution_count": 8,
     "metadata": {},
     "output_type": "execute_result"
    }
   ],
   "source": [
    "start = 24\n",
    "temp = [[18 if i == 0 else start + 10*(i-1) + 1, start + 10*i] for i in range(5)]\n",
    "age_groups = [f\"{i[0]} - {i[1]}\" for i in temp]\n",
    "age_groups.append(\"65+\")\n",
    "Age_map = {j:age_groups[i] for i, j in enumerate(sorted(df[cat_cols[0]].unique()))}\n",
    "Age_map"
   ]
  },
  {
   "cell_type": "markdown",
   "id": "3df723ea-685e-4892-bb86-7f0d2b265f51",
   "metadata": {},
   "source": [
    "### Gender"
   ]
  },
  {
   "cell_type": "code",
   "execution_count": 9,
   "id": "dda052b8-2da2-4242-a627-577a83c685d1",
   "metadata": {},
   "outputs": [
    {
     "data": {
      "text/plain": [
       "{0.48246: 'Female', -0.48246: 'Male'}"
      ]
     },
     "execution_count": 9,
     "metadata": {},
     "output_type": "execute_result"
    }
   ],
   "source": [
    "Gender_map = dict(zip(df[cat_cols[1]].unique(), [\"Female\", \"Male\"]))\n",
    "Gender_map"
   ]
  },
  {
   "cell_type": "markdown",
   "id": "c71530bf-80d0-4362-a414-0ff853a63514",
   "metadata": {},
   "source": [
    "### Education"
   ]
  },
  {
   "cell_type": "code",
   "execution_count": 10,
   "id": "906fd221-cba8-4051-892f-09fb10b082ca",
   "metadata": {},
   "outputs": [
    {
     "data": {
      "text/plain": [
       "{-2.43591: 'Left School Before 16 years',\n",
       " -1.7379: 'Left School at 16 years',\n",
       " -1.43719: 'Left School at 17 years',\n",
       " -1.22751: 'Left School at 18 years',\n",
       " -0.61113: 'Some College,No Certificate Or Degree',\n",
       " -0.05921: 'Professional Certificate/ Diploma',\n",
       " 0.45468: 'University Degree',\n",
       " 1.16365: 'Masters Degree',\n",
       " 1.98437: 'Doctorate Degree'}"
      ]
     },
     "execution_count": 10,
     "metadata": {},
     "output_type": "execute_result"
    }
   ],
   "source": [
    "education_groups = [\"Left School Before 16 years\",\n",
    "\"Left School at 16 years\",\n",
    "\"Left School at 17 years\",\n",
    "\"Left School at 18 years\",\n",
    "\"Some College,No Certificate Or Degree\",\n",
    "\"Professional Certificate/ Diploma\",\n",
    "\"University Degree\",\n",
    "\"Masters Degree\",\n",
    "\"Doctorate Degree\"]\n",
    "Education_map = dict(zip(sorted(df[cat_cols[2]].unique()), education_groups))\n",
    "Education_map"
   ]
  },
  {
   "cell_type": "markdown",
   "id": "70fb5650-5c4a-4c62-a43a-02053c289aa1",
   "metadata": {},
   "source": [
    "### Country"
   ]
  },
  {
   "cell_type": "code",
   "execution_count": 11,
   "id": "49b38f52-024f-4735-a360-24dbbb1a0f1c",
   "metadata": {},
   "outputs": [
    {
     "data": {
      "text/plain": [
       "{-0.09765: 'Australia',\n",
       " 0.24923: 'Canada',\n",
       " -0.46841: 'New Zealan',\n",
       " -0.28519: 'Other',\n",
       " 0.21128: 'Republic of Ireland',\n",
       " 0.96082: 'UK',\n",
       " -0.57009: 'USA'}"
      ]
     },
     "execution_count": 11,
     "metadata": {},
     "output_type": "execute_result"
    }
   ],
   "source": [
    "Country_map = {-0.09765 : \"Australia\",\n",
    "0.24923 : \"Canada\",\n",
    "-0.46841 : \"New Zealan\",\n",
    "-0.28519 : \"Other\",\n",
    "0.21128 : \"Republic of Ireland\",\n",
    "0.96082 : \"UK\",\n",
    "-0.57009 : \"USA\"}\n",
    "Country_map"
   ]
  },
  {
   "cell_type": "markdown",
   "id": "89c324c6-6014-437b-81aa-1130e06f3174",
   "metadata": {},
   "source": [
    "### Ethnicity"
   ]
  },
  {
   "cell_type": "code",
   "execution_count": 12,
   "id": "d284f627-c9c5-41fb-a921-9736afd9ecc2",
   "metadata": {},
   "outputs": [
    {
     "data": {
      "text/plain": [
       "{-0.50212: 'Asian',\n",
       " -1.10702: 'Black',\n",
       " 1.90725: 'Mixed-Black/Asian',\n",
       " 0.126: 'Mixed-White/Asian',\n",
       " -0.22166: 'Mixed-White/Black',\n",
       " 0.1144: 'Other',\n",
       " -0.31685: 'White'}"
      ]
     },
     "execution_count": 12,
     "metadata": {},
     "output_type": "execute_result"
    }
   ],
   "source": [
    "Ethnicity_map  = {-0.50212 : \"Asian\",\n",
    "-1.10702 : \"Black\",\n",
    "1.90725 : \"Mixed-Black/Asian\",\n",
    "0.12600 : \"Mixed-White/Asian\",\n",
    "-0.22166 : \"Mixed-White/Black\",\n",
    "0.11440 : \"Other\",\n",
    "-0.31685 : \"White\"}\n",
    "Ethnicity_map"
   ]
  },
  {
   "cell_type": "code",
   "execution_count": 13,
   "id": "88c85462-c4ab-4a8a-8371-f66118e81261",
   "metadata": {},
   "outputs": [
    {
     "data": {
      "text/plain": [
       "{'CL0': 'Never Used',\n",
       " 'CL1': 'Used over a Decade Ago',\n",
       " 'CL2': 'Used in Last Decade',\n",
       " 'CL3': 'Used in Last Year',\n",
       " 'CL4': 'Used in Last Month',\n",
       " 'CL5': 'Used in Last Week',\n",
       " 'CL6': 'Used in Last Day'}"
      ]
     },
     "execution_count": 13,
     "metadata": {},
     "output_type": "execute_result"
    }
   ],
   "source": [
    "Label_map = {\"CL0\" : \"Never Used\",\n",
    "\"CL1\" : \"Used over a Decade Ago\",\n",
    "\"CL2\" : \"Used in Last Decade\",\n",
    "\"CL3\" : \"Used in Last Year\",\n",
    "\"CL4\" : \"Used in Last Month\",\n",
    "\"CL5\" : \"Used in Last Week\",\n",
    "\"CL6\" : \"Used in Last Day\"}\n",
    "Label_map"
   ]
  },
  {
   "cell_type": "code",
   "execution_count": 14,
   "id": "a99fd59c-2882-46e0-a5e1-6e7fdfbb1d12",
   "metadata": {},
   "outputs": [],
   "source": [
    "maps = [Age_map, Gender_map, Education_map, Country_map, Ethnicity_map]\n",
    "\n",
    "for i, j in enumerate(maps):\n",
    "    df[cat_cols[i]] = df[cat_cols[i]].map(j)"
   ]
  },
  {
   "cell_type": "code",
   "execution_count": 15,
   "id": "6f857359-8be7-4899-a81c-50f1a3b4fad4",
   "metadata": {},
   "outputs": [
    {
     "data": {
      "text/html": [
       "<div>\n",
       "<style scoped>\n",
       "    .dataframe tbody tr th:only-of-type {\n",
       "        vertical-align: middle;\n",
       "    }\n",
       "\n",
       "    .dataframe tbody tr th {\n",
       "        vertical-align: top;\n",
       "    }\n",
       "\n",
       "    .dataframe thead th {\n",
       "        text-align: right;\n",
       "    }\n",
       "</style>\n",
       "<table border=\"1\" class=\"dataframe\">\n",
       "  <thead>\n",
       "    <tr style=\"text-align: right;\">\n",
       "      <th></th>\n",
       "      <th>Age</th>\n",
       "      <th>Gender</th>\n",
       "      <th>Education</th>\n",
       "      <th>Country</th>\n",
       "      <th>Ethnicity</th>\n",
       "      <th>Nscore</th>\n",
       "      <th>Escore</th>\n",
       "      <th>Oscore</th>\n",
       "      <th>Ascore</th>\n",
       "      <th>Cscore</th>\n",
       "      <th>...</th>\n",
       "      <th>Ecstasy</th>\n",
       "      <th>Heroin</th>\n",
       "      <th>Ketamine</th>\n",
       "      <th>Legalh</th>\n",
       "      <th>LSD</th>\n",
       "      <th>Meth</th>\n",
       "      <th>Mushrooms</th>\n",
       "      <th>Nicotine</th>\n",
       "      <th>Semer</th>\n",
       "      <th>VSA</th>\n",
       "    </tr>\n",
       "  </thead>\n",
       "  <tbody>\n",
       "    <tr>\n",
       "      <th>0</th>\n",
       "      <td>35 - 44</td>\n",
       "      <td>Female</td>\n",
       "      <td>Professional Certificate/ Diploma</td>\n",
       "      <td>UK</td>\n",
       "      <td>Mixed-White/Asian</td>\n",
       "      <td>0.31287</td>\n",
       "      <td>-0.57545</td>\n",
       "      <td>-0.58331</td>\n",
       "      <td>-0.91699</td>\n",
       "      <td>-0.00665</td>\n",
       "      <td>...</td>\n",
       "      <td>CL0</td>\n",
       "      <td>CL0</td>\n",
       "      <td>CL0</td>\n",
       "      <td>CL0</td>\n",
       "      <td>CL0</td>\n",
       "      <td>CL0</td>\n",
       "      <td>CL0</td>\n",
       "      <td>CL2</td>\n",
       "      <td>CL0</td>\n",
       "      <td>CL0</td>\n",
       "    </tr>\n",
       "    <tr>\n",
       "      <th>1</th>\n",
       "      <td>25 - 34</td>\n",
       "      <td>Male</td>\n",
       "      <td>Doctorate Degree</td>\n",
       "      <td>UK</td>\n",
       "      <td>White</td>\n",
       "      <td>-0.67825</td>\n",
       "      <td>1.93886</td>\n",
       "      <td>1.43533</td>\n",
       "      <td>0.76096</td>\n",
       "      <td>-0.14277</td>\n",
       "      <td>...</td>\n",
       "      <td>CL4</td>\n",
       "      <td>CL0</td>\n",
       "      <td>CL2</td>\n",
       "      <td>CL0</td>\n",
       "      <td>CL2</td>\n",
       "      <td>CL3</td>\n",
       "      <td>CL0</td>\n",
       "      <td>CL4</td>\n",
       "      <td>CL0</td>\n",
       "      <td>CL0</td>\n",
       "    </tr>\n",
       "    <tr>\n",
       "      <th>2</th>\n",
       "      <td>35 - 44</td>\n",
       "      <td>Male</td>\n",
       "      <td>Professional Certificate/ Diploma</td>\n",
       "      <td>UK</td>\n",
       "      <td>White</td>\n",
       "      <td>-0.46725</td>\n",
       "      <td>0.80523</td>\n",
       "      <td>-0.84732</td>\n",
       "      <td>-1.62090</td>\n",
       "      <td>-1.01450</td>\n",
       "      <td>...</td>\n",
       "      <td>CL0</td>\n",
       "      <td>CL0</td>\n",
       "      <td>CL0</td>\n",
       "      <td>CL0</td>\n",
       "      <td>CL0</td>\n",
       "      <td>CL0</td>\n",
       "      <td>CL1</td>\n",
       "      <td>CL0</td>\n",
       "      <td>CL0</td>\n",
       "      <td>CL0</td>\n",
       "    </tr>\n",
       "    <tr>\n",
       "      <th>3</th>\n",
       "      <td>18 - 24</td>\n",
       "      <td>Female</td>\n",
       "      <td>Masters Degree</td>\n",
       "      <td>UK</td>\n",
       "      <td>White</td>\n",
       "      <td>-0.14882</td>\n",
       "      <td>-0.80615</td>\n",
       "      <td>-0.01928</td>\n",
       "      <td>0.59042</td>\n",
       "      <td>0.58489</td>\n",
       "      <td>...</td>\n",
       "      <td>CL0</td>\n",
       "      <td>CL0</td>\n",
       "      <td>CL2</td>\n",
       "      <td>CL0</td>\n",
       "      <td>CL0</td>\n",
       "      <td>CL0</td>\n",
       "      <td>CL0</td>\n",
       "      <td>CL2</td>\n",
       "      <td>CL0</td>\n",
       "      <td>CL0</td>\n",
       "    </tr>\n",
       "    <tr>\n",
       "      <th>4</th>\n",
       "      <td>35 - 44</td>\n",
       "      <td>Female</td>\n",
       "      <td>Doctorate Degree</td>\n",
       "      <td>UK</td>\n",
       "      <td>White</td>\n",
       "      <td>0.73545</td>\n",
       "      <td>-1.63340</td>\n",
       "      <td>-0.45174</td>\n",
       "      <td>-0.30172</td>\n",
       "      <td>1.30612</td>\n",
       "      <td>...</td>\n",
       "      <td>CL1</td>\n",
       "      <td>CL0</td>\n",
       "      <td>CL0</td>\n",
       "      <td>CL1</td>\n",
       "      <td>CL0</td>\n",
       "      <td>CL0</td>\n",
       "      <td>CL2</td>\n",
       "      <td>CL2</td>\n",
       "      <td>CL0</td>\n",
       "      <td>CL0</td>\n",
       "    </tr>\n",
       "    <tr>\n",
       "      <th>...</th>\n",
       "      <td>...</td>\n",
       "      <td>...</td>\n",
       "      <td>...</td>\n",
       "      <td>...</td>\n",
       "      <td>...</td>\n",
       "      <td>...</td>\n",
       "      <td>...</td>\n",
       "      <td>...</td>\n",
       "      <td>...</td>\n",
       "      <td>...</td>\n",
       "      <td>...</td>\n",
       "      <td>...</td>\n",
       "      <td>...</td>\n",
       "      <td>...</td>\n",
       "      <td>...</td>\n",
       "      <td>...</td>\n",
       "      <td>...</td>\n",
       "      <td>...</td>\n",
       "      <td>...</td>\n",
       "      <td>...</td>\n",
       "      <td>...</td>\n",
       "    </tr>\n",
       "    <tr>\n",
       "      <th>1880</th>\n",
       "      <td>18 - 24</td>\n",
       "      <td>Female</td>\n",
       "      <td>Some College,No Certificate Or Degree</td>\n",
       "      <td>USA</td>\n",
       "      <td>White</td>\n",
       "      <td>-1.19430</td>\n",
       "      <td>1.74091</td>\n",
       "      <td>1.88511</td>\n",
       "      <td>0.76096</td>\n",
       "      <td>-1.13788</td>\n",
       "      <td>...</td>\n",
       "      <td>CL0</td>\n",
       "      <td>CL0</td>\n",
       "      <td>CL0</td>\n",
       "      <td>CL3</td>\n",
       "      <td>CL3</td>\n",
       "      <td>CL0</td>\n",
       "      <td>CL0</td>\n",
       "      <td>CL0</td>\n",
       "      <td>CL0</td>\n",
       "      <td>CL5</td>\n",
       "    </tr>\n",
       "    <tr>\n",
       "      <th>1881</th>\n",
       "      <td>18 - 24</td>\n",
       "      <td>Male</td>\n",
       "      <td>Some College,No Certificate Or Degree</td>\n",
       "      <td>USA</td>\n",
       "      <td>White</td>\n",
       "      <td>-0.24649</td>\n",
       "      <td>1.74091</td>\n",
       "      <td>0.58331</td>\n",
       "      <td>0.76096</td>\n",
       "      <td>-1.51840</td>\n",
       "      <td>...</td>\n",
       "      <td>CL2</td>\n",
       "      <td>CL0</td>\n",
       "      <td>CL0</td>\n",
       "      <td>CL3</td>\n",
       "      <td>CL5</td>\n",
       "      <td>CL4</td>\n",
       "      <td>CL4</td>\n",
       "      <td>CL5</td>\n",
       "      <td>CL0</td>\n",
       "      <td>CL0</td>\n",
       "    </tr>\n",
       "    <tr>\n",
       "      <th>1882</th>\n",
       "      <td>25 - 34</td>\n",
       "      <td>Female</td>\n",
       "      <td>University Degree</td>\n",
       "      <td>USA</td>\n",
       "      <td>White</td>\n",
       "      <td>1.13281</td>\n",
       "      <td>-1.37639</td>\n",
       "      <td>-1.27553</td>\n",
       "      <td>-1.77200</td>\n",
       "      <td>-1.38502</td>\n",
       "      <td>...</td>\n",
       "      <td>CL4</td>\n",
       "      <td>CL0</td>\n",
       "      <td>CL2</td>\n",
       "      <td>CL0</td>\n",
       "      <td>CL2</td>\n",
       "      <td>CL0</td>\n",
       "      <td>CL2</td>\n",
       "      <td>CL6</td>\n",
       "      <td>CL0</td>\n",
       "      <td>CL0</td>\n",
       "    </tr>\n",
       "    <tr>\n",
       "      <th>1883</th>\n",
       "      <td>18 - 24</td>\n",
       "      <td>Female</td>\n",
       "      <td>Some College,No Certificate Or Degree</td>\n",
       "      <td>USA</td>\n",
       "      <td>White</td>\n",
       "      <td>0.91093</td>\n",
       "      <td>-1.92173</td>\n",
       "      <td>0.29338</td>\n",
       "      <td>-1.62090</td>\n",
       "      <td>-2.57309</td>\n",
       "      <td>...</td>\n",
       "      <td>CL3</td>\n",
       "      <td>CL0</td>\n",
       "      <td>CL0</td>\n",
       "      <td>CL3</td>\n",
       "      <td>CL3</td>\n",
       "      <td>CL0</td>\n",
       "      <td>CL3</td>\n",
       "      <td>CL4</td>\n",
       "      <td>CL0</td>\n",
       "      <td>CL0</td>\n",
       "    </tr>\n",
       "    <tr>\n",
       "      <th>1884</th>\n",
       "      <td>18 - 24</td>\n",
       "      <td>Male</td>\n",
       "      <td>Some College,No Certificate Or Degree</td>\n",
       "      <td>Republic of Ireland</td>\n",
       "      <td>White</td>\n",
       "      <td>-0.46725</td>\n",
       "      <td>2.12700</td>\n",
       "      <td>1.65653</td>\n",
       "      <td>1.11406</td>\n",
       "      <td>0.41594</td>\n",
       "      <td>...</td>\n",
       "      <td>CL3</td>\n",
       "      <td>CL0</td>\n",
       "      <td>CL0</td>\n",
       "      <td>CL3</td>\n",
       "      <td>CL3</td>\n",
       "      <td>CL0</td>\n",
       "      <td>CL3</td>\n",
       "      <td>CL6</td>\n",
       "      <td>CL0</td>\n",
       "      <td>CL2</td>\n",
       "    </tr>\n",
       "  </tbody>\n",
       "</table>\n",
       "<p>1885 rows × 31 columns</p>\n",
       "</div>"
      ],
      "text/plain": [
       "          Age  Gender                              Education  \\\n",
       "0     35 - 44  Female      Professional Certificate/ Diploma   \n",
       "1     25 - 34    Male                       Doctorate Degree   \n",
       "2     35 - 44    Male      Professional Certificate/ Diploma   \n",
       "3     18 - 24  Female                         Masters Degree   \n",
       "4     35 - 44  Female                       Doctorate Degree   \n",
       "...       ...     ...                                    ...   \n",
       "1880  18 - 24  Female  Some College,No Certificate Or Degree   \n",
       "1881  18 - 24    Male  Some College,No Certificate Or Degree   \n",
       "1882  25 - 34  Female                      University Degree   \n",
       "1883  18 - 24  Female  Some College,No Certificate Or Degree   \n",
       "1884  18 - 24    Male  Some College,No Certificate Or Degree   \n",
       "\n",
       "                  Country          Ethnicity   Nscore   Escore   Oscore  \\\n",
       "0                      UK  Mixed-White/Asian  0.31287 -0.57545 -0.58331   \n",
       "1                      UK              White -0.67825  1.93886  1.43533   \n",
       "2                      UK              White -0.46725  0.80523 -0.84732   \n",
       "3                      UK              White -0.14882 -0.80615 -0.01928   \n",
       "4                      UK              White  0.73545 -1.63340 -0.45174   \n",
       "...                   ...                ...      ...      ...      ...   \n",
       "1880                  USA              White -1.19430  1.74091  1.88511   \n",
       "1881                  USA              White -0.24649  1.74091  0.58331   \n",
       "1882                  USA              White  1.13281 -1.37639 -1.27553   \n",
       "1883                  USA              White  0.91093 -1.92173  0.29338   \n",
       "1884  Republic of Ireland              White -0.46725  2.12700  1.65653   \n",
       "\n",
       "       Ascore   Cscore  ...  Ecstasy  Heroin Ketamine Legalh  LSD Meth  \\\n",
       "0    -0.91699 -0.00665  ...      CL0     CL0      CL0    CL0  CL0  CL0   \n",
       "1     0.76096 -0.14277  ...      CL4     CL0      CL2    CL0  CL2  CL3   \n",
       "2    -1.62090 -1.01450  ...      CL0     CL0      CL0    CL0  CL0  CL0   \n",
       "3     0.59042  0.58489  ...      CL0     CL0      CL2    CL0  CL0  CL0   \n",
       "4    -0.30172  1.30612  ...      CL1     CL0      CL0    CL1  CL0  CL0   \n",
       "...       ...      ...  ...      ...     ...      ...    ...  ...  ...   \n",
       "1880  0.76096 -1.13788  ...      CL0     CL0      CL0    CL3  CL3  CL0   \n",
       "1881  0.76096 -1.51840  ...      CL2     CL0      CL0    CL3  CL5  CL4   \n",
       "1882 -1.77200 -1.38502  ...      CL4     CL0      CL2    CL0  CL2  CL0   \n",
       "1883 -1.62090 -2.57309  ...      CL3     CL0      CL0    CL3  CL3  CL0   \n",
       "1884  1.11406  0.41594  ...      CL3     CL0      CL0    CL3  CL3  CL0   \n",
       "\n",
       "     Mushrooms Nicotine Semer  VSA  \n",
       "0          CL0      CL2   CL0  CL0  \n",
       "1          CL0      CL4   CL0  CL0  \n",
       "2          CL1      CL0   CL0  CL0  \n",
       "3          CL0      CL2   CL0  CL0  \n",
       "4          CL2      CL2   CL0  CL0  \n",
       "...        ...      ...   ...  ...  \n",
       "1880       CL0      CL0   CL0  CL5  \n",
       "1881       CL4      CL5   CL0  CL0  \n",
       "1882       CL2      CL6   CL0  CL0  \n",
       "1883       CL3      CL4   CL0  CL0  \n",
       "1884       CL3      CL6   CL0  CL2  \n",
       "\n",
       "[1885 rows x 31 columns]"
      ]
     },
     "execution_count": 15,
     "metadata": {},
     "output_type": "execute_result"
    }
   ],
   "source": [
    "df"
   ]
  },
  {
   "cell_type": "code",
   "execution_count": 17,
   "id": "4a9a0285-2c67-43e9-b232-d76005d3582f",
   "metadata": {},
   "outputs": [
    {
     "data": {
      "text/plain": [
       "Age           object\n",
       "Gender        object\n",
       "Education     object\n",
       "Country       object\n",
       "Ethnicity     object\n",
       "Nscore       float64\n",
       "Escore       float64\n",
       "Oscore       float64\n",
       "Ascore       float64\n",
       "Cscore       float64\n",
       "Impulsive    float64\n",
       "SS           float64\n",
       "Alcohol       object\n",
       "Amphet        object\n",
       "Amyl          object\n",
       "Benzos        object\n",
       "Caff          object\n",
       "Cannabis      object\n",
       "Choc          object\n",
       "Coke          object\n",
       "Crack         object\n",
       "Ecstasy       object\n",
       "Heroin        object\n",
       "Ketamine      object\n",
       "Legalh        object\n",
       "LSD           object\n",
       "Meth          object\n",
       "Mushrooms     object\n",
       "Nicotine      object\n",
       "Semer         object\n",
       "VSA           object\n",
       "dtype: object"
      ]
     },
     "execution_count": 17,
     "metadata": {},
     "output_type": "execute_result"
    }
   ],
   "source": [
    "df.dtypes"
   ]
  },
  {
   "cell_type": "code",
   "execution_count": 18,
   "id": "960c5418-4961-438d-afeb-8955aa81d9ed",
   "metadata": {},
   "outputs": [],
   "source": [
    "df.to_csv(\"drug.csv\")"
   ]
  },
  {
   "cell_type": "code",
   "execution_count": null,
   "id": "cc0b1720-4111-4dc6-a976-658bc0349171",
   "metadata": {},
   "outputs": [],
   "source": [
    "    "
   ]
  }
 ],
 "metadata": {
  "kernelspec": {
   "display_name": "Python 3 (ipykernel)",
   "language": "python",
   "name": "python3"
  },
  "language_info": {
   "codemirror_mode": {
    "name": "ipython",
    "version": 3
   },
   "file_extension": ".py",
   "mimetype": "text/x-python",
   "name": "python",
   "nbconvert_exporter": "python",
   "pygments_lexer": "ipython3",
   "version": "3.10.8"
  },
  "widgets": {
   "application/vnd.jupyter.widget-state+json": {
    "state": {},
    "version_major": 2,
    "version_minor": 0
   }
  }
 },
 "nbformat": 4,
 "nbformat_minor": 5
}
