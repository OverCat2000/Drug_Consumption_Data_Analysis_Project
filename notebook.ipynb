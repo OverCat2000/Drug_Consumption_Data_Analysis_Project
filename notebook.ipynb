{
 "cells": [
  {
   "cell_type": "code",
   "execution_count": 87,
   "id": "058de3b3-0a4f-42e6-b512-7756ff894e63",
   "metadata": {},
   "outputs": [],
   "source": [
    "import pandas as pd\n",
    "import numpy as np\n",
    "import matplotlib.pyplot as plt"
   ]
  },
  {
   "cell_type": "code",
   "execution_count": 88,
   "id": "6709f273-0640-4c3a-885c-6c018e31a9c2",
   "metadata": {},
   "outputs": [],
   "source": [
    "data = pd.read_csv(\"drug_consumption.csv\")"
   ]
  },
  {
   "cell_type": "code",
   "execution_count": 89,
   "id": "9003efa4-5a12-49c0-96d3-6ff473ba935b",
   "metadata": {},
   "outputs": [],
   "source": [
    "df = data.copy()"
   ]
  },
  {
   "cell_type": "code",
   "execution_count": 90,
   "id": "ee8ee2de-b1a5-4222-b12b-9c889bab9084",
   "metadata": {},
   "outputs": [],
   "source": [
    "df = df.drop(columns=['ID'])"
   ]
  },
  {
   "cell_type": "code",
   "execution_count": 91,
   "id": "65b0c592-a967-4bad-b331-ebe6bb4f1614",
   "metadata": {},
   "outputs": [
    {
     "data": {
      "text/plain": [
       "Index(['Age', 'Gender', 'Education', 'Country', 'Ethnicity', 'Nscore',\n",
       "       'Escore', 'Oscore', 'Ascore', 'Cscore', 'Impulsive', 'SS', 'Alcohol',\n",
       "       'Amphet', 'Amyl', 'Benzos', 'Caff', 'Cannabis', 'Choc', 'Coke', 'Crack',\n",
       "       'Ecstasy', 'Heroin', 'Ketamine', 'Legalh', 'LSD', 'Meth', 'Mushrooms',\n",
       "       'Nicotine', 'Semer', 'VSA'],\n",
       "      dtype='object')"
      ]
     },
     "execution_count": 91,
     "metadata": {},
     "output_type": "execute_result"
    }
   ],
   "source": [
    "df.columns"
   ]
  },
  {
   "cell_type": "code",
   "execution_count": 92,
   "id": "f937e960-9732-42f6-9a7d-014a2b529daa",
   "metadata": {},
   "outputs": [],
   "source": [
    "features = df.select_dtypes(include=['number']).columns\n",
    "labels = df.select_dtypes(include=['object']).columns"
   ]
  },
  {
   "cell_type": "code",
   "execution_count": 93,
   "id": "097758b4-db5b-4efd-b846-72099b76cb26",
   "metadata": {
    "scrolled": true
   },
   "outputs": [
    {
     "data": {
      "text/plain": [
       "['Age', 'Gender', 'Education', 'Country', 'Ethnicity']"
      ]
     },
     "execution_count": 93,
     "metadata": {},
     "output_type": "execute_result"
    }
   ],
   "source": [
    "#{i:len(df[i].value_counts()) for i in num_cols}\n",
    "cat_cols = [i for i in features if len(df[i].value_counts()) < 10]\n",
    "cat_cols"
   ]
  },
  {
   "cell_type": "markdown",
   "id": "0a5824ab-454f-4247-a2cd-f8ca4fa2f05a",
   "metadata": {},
   "source": [
    "### Age"
   ]
  },
  {
   "cell_type": "code",
   "execution_count": 94,
   "id": "cb3759b4-1af0-437b-8603-1945a6b98d2d",
   "metadata": {},
   "outputs": [
    {
     "data": {
      "text/plain": [
       "{-0.95197: '18 - 24',\n",
       " -0.07854: '25 - 34',\n",
       " 0.49788: '35 - 44',\n",
       " 1.09449: '45 - 54',\n",
       " 1.82213: '55 - 64',\n",
       " 2.59171: '65+'}"
      ]
     },
     "execution_count": 94,
     "metadata": {},
     "output_type": "execute_result"
    }
   ],
   "source": [
    "start = 24\n",
    "temp = [[18 if i == 0 else start + 10*(i-1) + 1, start + 10*i] for i in range(5)]\n",
    "age_groups = [f\"{i[0]} - {i[1]}\" for i in temp]\n",
    "age_groups.append(\"65+\")\n",
    "age_map = {j:age_groups[i] for i, j in enumerate(sorted(df[cat_cols[0]].unique()))}\n",
    "age_map"
   ]
  },
  {
   "cell_type": "markdown",
   "id": "3df723ea-685e-4892-bb86-7f0d2b265f51",
   "metadata": {},
   "source": [
    "### Gender"
   ]
  },
  {
   "cell_type": "code",
   "execution_count": 95,
   "id": "dda052b8-2da2-4242-a627-577a83c685d1",
   "metadata": {},
   "outputs": [
    {
     "data": {
      "text/plain": [
       "{0.48246: 'Female', -0.48246: 'Male'}"
      ]
     },
     "execution_count": 95,
     "metadata": {},
     "output_type": "execute_result"
    }
   ],
   "source": [
    "gender_map = dict(zip(df[cat_cols[1]].unique(), [\"Female\", \"Male\"]))\n",
    "gender_map"
   ]
  },
  {
   "cell_type": "markdown",
   "id": "c71530bf-80d0-4362-a414-0ff853a63514",
   "metadata": {},
   "source": [
    "### Education"
   ]
  },
  {
   "cell_type": "code",
   "execution_count": 104,
   "id": "906fd221-cba8-4051-892f-09fb10b082ca",
   "metadata": {},
   "outputs": [
    {
     "data": {
      "text/plain": [
       "{-2.43591: 'Left School Before 16 years',\n",
       " -1.7379: 'Left School at 16 years',\n",
       " -1.43719: 'Left School at 17 years',\n",
       " -1.22751: 'Left School at 18 years',\n",
       " -0.61113: 'Some College,No Certificate Or Degree',\n",
       " -0.05921: 'Professional Certificate/ Diploma',\n",
       " 0.45468: 'University Degree',\n",
       " 1.16365: 'Masters Degree',\n",
       " 1.98437: 'Doctorate Degree'}"
      ]
     },
     "execution_count": 104,
     "metadata": {},
     "output_type": "execute_result"
    }
   ],
   "source": [
    "education_groups = [\"Left School Before 16 years\",\n",
    "\"Left School at 16 years\",\n",
    "\"Left School at 17 years\",\n",
    "\"Left School at 18 years\",\n",
    "\"Some College,No Certificate Or Degree\",\n",
    "\"Professional Certificate/ Diploma\",\n",
    "\"University Degree\",\n",
    "\"Masters Degree\",\n",
    "\"Doctorate Degree\"]\n",
    "education_map = dict(zip(sorted(df[cat_cols[2]].unique()), education_groups))\n",
    "education_map"
   ]
  },
  {
   "cell_type": "markdown",
   "id": "89c324c6-6014-437b-81aa-1130e06f3174",
   "metadata": {},
   "source": [
    "### Ethnicity"
   ]
  },
  {
   "cell_type": "code",
   "execution_count": 103,
   "id": "d284f627-c9c5-41fb-a921-9736afd9ecc2",
   "metadata": {},
   "outputs": [
    {
     "data": {
      "text/plain": [
       "{-0.50212: 'Asian',\n",
       " -1.10702: 'Black',\n",
       " 1.90725: 'Mixed-Black/Asian',\n",
       " 0.126: 'Mixed-White/Asian',\n",
       " -0.22166: 'Mixed-White/Black',\n",
       " 0.1144: 'Other',\n",
       " -0.31685: 'White'}"
      ]
     },
     "execution_count": 103,
     "metadata": {},
     "output_type": "execute_result"
    }
   ],
   "source": [
    "ethnicity_map  = {-0.50212 : \"Asian\",\n",
    "-1.10702 : \"Black\",\n",
    "1.90725 : \"Mixed-Black/Asian\",\n",
    "0.12600 : \"Mixed-White/Asian\",\n",
    "-0.22166 : \"Mixed-White/Black\",\n",
    "0.11440 : \"Other\",\n",
    "-0.31685 : \"White\"}\n",
    "ethnicity_map"
   ]
  },
  {
   "cell_type": "code",
   "execution_count": null,
   "id": "88c85462-c4ab-4a8a-8371-f66118e81261",
   "metadata": {},
   "outputs": [],
   "source": []
  },
  {
   "cell_type": "code",
   "execution_count": null,
   "id": "a99fd59c-2882-46e0-a5e1-6e7fdfbb1d12",
   "metadata": {},
   "outputs": [],
   "source": []
  },
  {
   "cell_type": "code",
   "execution_count": null,
   "id": "960c5418-4961-438d-afeb-8955aa81d9ed",
   "metadata": {},
   "outputs": [],
   "source": []
  },
  {
   "cell_type": "code",
   "execution_count": null,
   "id": "cc0b1720-4111-4dc6-a976-658bc0349171",
   "metadata": {},
   "outputs": [],
   "source": []
  }
 ],
 "metadata": {
  "kernelspec": {
   "display_name": "Python 3 (ipykernel)",
   "language": "python",
   "name": "python3"
  },
  "language_info": {
   "codemirror_mode": {
    "name": "ipython",
    "version": 3
   },
   "file_extension": ".py",
   "mimetype": "text/x-python",
   "name": "python",
   "nbconvert_exporter": "python",
   "pygments_lexer": "ipython3",
   "version": "3.10.8"
  },
  "widgets": {
   "application/vnd.jupyter.widget-state+json": {
    "state": {},
    "version_major": 2,
    "version_minor": 0
   }
  }
 },
 "nbformat": 4,
 "nbformat_minor": 5
}
